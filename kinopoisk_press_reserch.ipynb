{
 "cells": [
  {
   "cell_type": "code",
   "execution_count": 87,
   "id": "633c56c6",
   "metadata": {},
   "outputs": [
    {
     "name": "stdout",
     "output_type": "stream",
     "text": [
      "['20 мая 2022', '16 марта 2022', '5 декабря 2021', '12 декабря 2021'] ['https://www.kinopoisk.ru/film/4642708/press/', 'https://www.kinopoisk.ru/film/1108689/press/', 'https://www.kinopoisk.ru/film/4445150/press/', 'https://www.kinopoisk.ru/film/4357563/press/'] ['https://t.me/cinemarticle/8746', 'https://t.me/cinemarticle/8280', 'https://t.me/cinemarticle/7764', 'https://t.me/cinemarticle/7822'] ['Екатерина Высоцких', 'Екатерина Высоцких', 'Екатерина Высоцких', 'Екатерина Высоцких'] ['positive', 'positive', 'positive', 'negative'] ['Cinemarticle', 'Cinemarticle', 'Cinemarticle', 'Cinemarticle']\n",
      "['20 мая 2022', '16 марта 2022', '5 декабря 2021', '12 декабря 2021', '24 июня 2022', '23 мая 2022', '6 апреля 2022', '18 апреля 2022'] ['https://www.kinopoisk.ru/film/4642708/press/', 'https://www.kinopoisk.ru/film/1108689/press/', 'https://www.kinopoisk.ru/film/4445150/press/', 'https://www.kinopoisk.ru/film/4357563/press/', 'https://www.kinopoisk.ru/film/4397114/press/', 'https://www.kinopoisk.ru/film/4642708/press/', 'https://www.kinopoisk.ru/film/1320559/press/', 'https://www.kinopoisk.ru/film/590286/press/'] ['https://t.me/cinemarticle/8746', 'https://t.me/cinemarticle/8280', 'https://t.me/cinemarticle/7764', 'https://t.me/cinemarticle/7822', 'https://journal.tinkoff.ru/men-moment/', 'https://journal.tinkoff.ru/patient-zero/', 'https://journal.tinkoff.ru/moon-knight-who/', 'https://journal.tinkoff.ru/batman-review/'] ['Екатерина Высоцких', 'Екатерина Высоцких', 'Екатерина Высоцких', 'Екатерина Высоцких', 'Ефим Гугнин', 'Роман Персианинов', 'Ефим Гугнин', 'Ефим Гугнин'] ['positive', 'positive', 'positive', 'negative', 'positive', 'positive', 'positive', 'negative'] ['Cinemarticle', 'Cinemarticle', 'Cinemarticle', 'Cinemarticle', 'Тинькофф Журнал', 'Тинькофф Журнал', 'Тинькофф Журнал', 'Тинькофф Журнал']\n"
     ]
    }
   ],
   "source": [
    "import math\n",
    "import time\n",
    "import re\n",
    "from selenium import webdriver\n",
    "from selenium.webdriver.chrome.service import Service\n",
    "from webdriver_manager.chrome import ChromeDriverManager\n",
    "from selenium.webdriver.common.by import By\n",
    "from selenium.webdriver.common.action_chains import ActionChains\n",
    "from selenium.common.exceptions import NoSuchElementException\n",
    "import pandas as pd\n",
    "\n",
    "\n",
    "all_reviews_name = []\n",
    "all_reviews_link = []\n",
    "all_reviews_date = []\n",
    "all_reviews_film = []\n",
    "all_opinions = []\n",
    "all_press_names = []\n",
    "with webdriver.Chrome(service=Service(ChromeDriverManager().install())) as driver:\n",
    "    num_reviews_xpath = '//div[@class=\"pagesFromTo\"]'\n",
    "    press_name_xpath = '//h1[@class=\"breadcrumbs__head\"]'\n",
    "    positives_xpath = '//div[contains(@class, \"item positive\")]'\n",
    "    negatives_xpath = '//div[contains(@class, \"item negative\")]'\n",
    "    for press_id in range(155, 156 + 1):\n",
    "        driver.get(f'https://www.kinopoisk.ru/press/source/{press_id}')\n",
    "        press_name =  driver.find_elements(By.XPATH, press_xpath)[1].text\n",
    "        try:\n",
    "            num_reviews = driver.find_element(By.XPATH, num_reviews_xpath).text.split()[2]\n",
    "            num_pages = math.ceil(int(num_reviews) / 25)\n",
    "        except NoSuchElementException:\n",
    "            num_pages = 1\n",
    "        for page_number in range(1, num_pages + 1):\n",
    "            driver.get(f'https://www.kinopoisk.ru/press/source/{press_id}/page/{page_number}/#list')\n",
    "            for press_opinion_xpath in [positives_xpath, negatives_xpath]:\n",
    "                reviews_name = driver.find_elements(By.XPATH, press_opinion_xpath + '//div[@class=\"name\"]/a')\n",
    "                all_reviews_name.extend([review.text for review in reviews_name])\n",
    "                reviews_link = driver.find_elements(By.XPATH, press_opinion_xpath + '//div[@class=\"fullText\"]/a')\n",
    "                all_reviews_link.extend([review.get_attribute('href') for review in reviews_link])\n",
    "                reviews_date = driver.find_elements(By.XPATH, press_opinion_xpath + '//div[@class=\"date\"]')\n",
    "                all_reviews_date.extend([review.text for review in reviews_date])\n",
    "                reviews_film = driver.find_elements(By.XPATH, press_opinion_xpath + '//div[@class=\"subject\"]/a')\n",
    "                all_reviews_film.extend([review.get_attribute('href') for review in reviews_film])\n",
    "                press_opinions = [re.search(r'positive|negative', press_opinion_xpath)[0] for _ in range(len(reviews_name))]\n",
    "                all_press_names.extend(press_name for _ in range(len(reviews_name)))\n",
    "                all_opinions.extend(press_opinions)\n",
    "    print(all_reviews_date, all_reviews_film, all_reviews_link, all_reviews_name, all_opinions, all_press_names)"
   ]
  },
  {
   "cell_type": "code",
   "execution_count": 3,
   "id": "174ebfbf",
   "metadata": {},
   "outputs": [
    {
     "data": {
      "text/html": [
       "<div>\n",
       "<style scoped>\n",
       "    .dataframe tbody tr th:only-of-type {\n",
       "        vertical-align: middle;\n",
       "    }\n",
       "\n",
       "    .dataframe tbody tr th {\n",
       "        vertical-align: top;\n",
       "    }\n",
       "\n",
       "    .dataframe thead th {\n",
       "        text-align: right;\n",
       "    }\n",
       "</style>\n",
       "<table border=\"1\" class=\"dataframe\">\n",
       "  <thead>\n",
       "    <tr style=\"text-align: right;\">\n",
       "      <th></th>\n",
       "      <th>1</th>\n",
       "      <th>2</th>\n",
       "      <th>3</th>\n",
       "    </tr>\n",
       "  </thead>\n",
       "  <tbody>\n",
       "    <tr>\n",
       "      <th>0</th>\n",
       "      <td>1</td>\n",
       "      <td>2</td>\n",
       "      <td>3</td>\n",
       "    </tr>\n",
       "    <tr>\n",
       "      <th>1</th>\n",
       "      <td>4</td>\n",
       "      <td>5</td>\n",
       "      <td>6</td>\n",
       "    </tr>\n",
       "    <tr>\n",
       "      <th>2</th>\n",
       "      <td>7</td>\n",
       "      <td>8</td>\n",
       "      <td>9</td>\n",
       "    </tr>\n",
       "  </tbody>\n",
       "</table>\n",
       "</div>"
      ],
      "text/plain": [
       "   1  2  3\n",
       "0  1  2  3\n",
       "1  4  5  6\n",
       "2  7  8  9"
      ]
     },
     "execution_count": 3,
     "metadata": {},
     "output_type": "execute_result"
    }
   ],
   "source": [
    "\n",
    "data = [[1, 2, 3], [4, 5, 6]]\n",
    "data.append([7, 8, 9])\n",
    "df = pd.DataFrame(data, columns=['1', '2', '3'])\n",
    "df"
   ]
  },
  {
   "cell_type": "code",
   "execution_count": null,
   "id": "47799c0f",
   "metadata": {},
   "outputs": [],
   "source": []
  },
  {
   "cell_type": "code",
   "execution_count": null,
   "id": "d5db3396",
   "metadata": {},
   "outputs": [],
   "source": []
  },
  {
   "cell_type": "code",
   "execution_count": null,
   "id": "6ca22d7e",
   "metadata": {},
   "outputs": [],
   "source": []
  },
  {
   "cell_type": "code",
   "execution_count": null,
   "id": "d1d4b8a0",
   "metadata": {},
   "outputs": [],
   "source": []
  }
 ],
 "metadata": {
  "kernelspec": {
   "display_name": "Python 3 (ipykernel)",
   "language": "python",
   "name": "python3"
  },
  "language_info": {
   "codemirror_mode": {
    "name": "ipython",
    "version": 3
   },
   "file_extension": ".py",
   "mimetype": "text/x-python",
   "name": "python",
   "nbconvert_exporter": "python",
   "pygments_lexer": "ipython3",
   "version": "3.9.5"
  }
 },
 "nbformat": 4,
 "nbformat_minor": 5
}
